{
 "cells": [
  {
   "cell_type": "code",
   "execution_count": 1,
   "id": "c3865f2d",
   "metadata": {},
   "outputs": [],
   "source": [
    "import time\n",
    "\n",
    "import os\n",
    "import pandas as pd\n",
    "\n",
    "import matplotlib.pyplot as plt "
   ]
  },
  {
   "cell_type": "code",
   "execution_count": 5,
   "id": "609112dd",
   "metadata": {},
   "outputs": [],
   "source": [
    "tempos = {}"
   ]
  },
  {
   "cell_type": "code",
   "execution_count": 55,
   "id": "610e8f4c",
   "metadata": {},
   "outputs": [],
   "source": [
    "t_counts = [1, 2, 4, 8, 16, 32, 64, 128, 256, 512, 768, 1024, 1536]"
   ]
  },
  {
   "cell_type": "code",
   "execution_count": 11,
   "id": "970b7506",
   "metadata": {},
   "outputs": [
    {
     "name": "stdout",
     "output_type": "stream",
     "text": [
      "1536 [1.8009138107299805, 1.4823100566864014, 1.5063719749450684]\n"
     ]
    }
   ],
   "source": [
    "for t in t_counts:\n",
    "    tempo_local = []\n",
    "    for i in range(3):\n",
    "        t1 = time.time()\n",
    "        os.system(f'go run main.go euler.go 30000 {t}')\n",
    "        t2 = time.time()\n",
    "        tf = t2 - t1\n",
    "        tempo_local.append(tf)\n",
    "    \n",
    "    print(t, tempo_local)\n",
    "    tempos[str(t)] = tempo_local "
   ]
  },
  {
   "cell_type": "code",
   "execution_count": 52,
   "id": "b1527360",
   "metadata": {},
   "outputs": [],
   "source": [
    "data = {}\n",
    "data['t1'] = []\n",
    "data['t2'] = []\n",
    "data['t3'] = []\n",
    "data['t_mean'] = []\n",
    "data['speedup'] = []\n",
    "\n",
    "mean_0 = (tempos['1'][0] + tempos['1'][1] + tempos['1'][2]) / 3\n",
    "\n",
    "for i in tempos:\n",
    "    data['t1'].append(tempos[i][0])\n",
    "    data['t2'].append(tempos[i][1])\n",
    "    data['t3'].append(tempos[i][2])\n",
    "    \n",
    "    mean = (tempos[i][0] + tempos[i][1] + tempos[i][2]) / 3\n",
    "    \n",
    "    data['t_mean'].append(mean)\n",
    "    data['speedup'].append(mean_0 / mean)"
   ]
  },
  {
   "cell_type": "code",
   "execution_count": 42,
   "id": "3d8f2f73",
   "metadata": {},
   "outputs": [],
   "source": [
    "tempos['1'] = [591.52, 591.31, 592.70]"
   ]
  },
  {
   "cell_type": "code",
   "execution_count": 31,
   "id": "921f98b9",
   "metadata": {},
   "outputs": [],
   "source": [
    "l = [591.843, 296.95, 149.85, 75.37, 38.32, 19.58, 10.37, 5.74, 3.39, 2.22, 1.90, 1.62, 1.59]"
   ]
  },
  {
   "cell_type": "code",
   "execution_count": 62,
   "id": "25c92e73",
   "metadata": {},
   "outputs": [],
   "source": [
    "speedups = []\n",
    "\n",
    "for i in l:\n",
    "    speedups.append(l[0]/i)"
   ]
  },
  {
   "cell_type": "code",
   "execution_count": 53,
   "id": "9a0feeb7",
   "metadata": {},
   "outputs": [
    {
     "name": "stdout",
     "output_type": "stream",
     "text": [
      "|        t1 |        t2 |        t3 |    t_mean |   speedup |\n",
      "|----------:|----------:|----------:|----------:|----------:|\n",
      "|   2.12328 |   1.80568 |   1.80408 |   1.91101 |   309.701 |\n",
      "|   1.62077 |   1.62628 |   1.62583 |   1.62429 |   364.37  |\n",
      "|   1.80091 |   1.48231 |   1.50637 |   1.59653 |   370.706 |\n",
      "| 591.52    | 591.31    | 592.7     | 591.843   |     1     |\n"
     ]
    }
   ],
   "source": [
    "df = pd.DataFrame(data)\n",
    "df.to_csv('stats.csv', index=False)\n",
    "print(df.to_markdown(index=False))"
   ]
  },
  {
   "cell_type": "code",
   "execution_count": 54,
   "id": "1ddcc89b",
   "metadata": {},
   "outputs": [],
   "source": []
  },
  {
   "cell_type": "code",
   "execution_count": 73,
   "id": "b26d42cb",
   "metadata": {},
   "outputs": [
    {
     "data": {
      "image/png": "[encoded data removed]",
      "text/plain": [
       "<Figure size 432x288 with 1 Axes>"
      ]
     },
     "metadata": {
      "needs_background": "light"
     },
     "output_type": "display_data"
    }
   ],
   "source": [
    "plt.figure()\n",
    "plt.plot(t_counts, speedups)\n",
    "\n",
    "plt.ylabel('Speedup')\n",
    "plt.xlabel('Threads')\n",
    "\n",
    "plt.savefig('speedup_plot.png')\n",
    "plt.show()"
   ]
  },
  {
   "cell_type": "code",
   "execution_count": null,
   "id": "e7dc6736",
   "metadata": {},
   "outputs": [],
   "source": []
  }
 ],
 "metadata": {
  "kernelspec": {
   "display_name": "Python 3",
   "language": "python",
   "name": "python3"
  },
  "language_info": {
   "codemirror_mode": {
    "name": "ipython",
    "version": 3
   },
   "file_extension": ".py",
   "mimetype": "text/x-python",
   "name": "python",
   "nbconvert_exporter": "python",
   "pygments_lexer": "ipython3",
   "version": "3.9.12"
  }
 },
 "nbformat": 4,
 "nbformat_minor": 5
}
