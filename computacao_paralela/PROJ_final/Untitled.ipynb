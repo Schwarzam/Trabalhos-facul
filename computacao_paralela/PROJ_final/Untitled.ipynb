{
 "cells": [
  {
   "cell_type": "code",
   "execution_count": 1,
   "id": "c3865f2d",
   "metadata": {},
   "outputs": [],
   "source": [
    "import time\n",
    "\n",
    "import os\n",
    "import pandas as pd"
   ]
  },
  {
   "cell_type": "code",
   "execution_count": null,
   "id": "609112dd",
   "metadata": {},
   "outputs": [],
   "source": []
  },
  {
   "cell_type": "code",
   "execution_count": 2,
   "id": "610e8f4c",
   "metadata": {},
   "outputs": [],
   "source": [
    "t_counts = [1, 2, 4, 8, 16, 32, 64, 128, 256, 512]"
   ]
  },
  {
   "cell_type": "code",
   "execution_count": null,
   "id": "970b7506",
   "metadata": {},
   "outputs": [
    {
     "name": "stdout",
     "output_type": "stream",
     "text": [
      "1 [591.5209610462189, 591.3170928955078, 592.707197189331]\n",
      "2 [297.085923910141, 297.07080006599426, 2096.70218706131]\n"
     ]
    }
   ],
   "source": [
    "tempos = {}\n",
    "for t in t_counts:\n",
    "    tempo_local = []\n",
    "    for i in range(3):\n",
    "        t1 = time.time()\n",
    "        os.system(f'go run main.go euler.go 30000 {t}')\n",
    "        t2 = time.time()\n",
    "        tf = t2 - t1\n",
    "        tempo_local.append(tf)\n",
    "    \n",
    "    print(t, tempo_local)\n",
    "    tempos[str(t)] = tempo_local "
   ]
  },
  {
   "cell_type": "code",
   "execution_count": null,
   "id": "3b33c74e",
   "metadata": {},
   "outputs": [],
   "source": [
    "for i in range(3):\n",
    "    print(i)"
   ]
  },
  {
   "cell_type": "code",
   "execution_count": 5,
   "id": "921f98b9",
   "metadata": {},
   "outputs": [
    {
     "data": {
      "text/plain": [
       "1669143835.002634"
      ]
     },
     "execution_count": 5,
     "metadata": {},
     "output_type": "execute_result"
    }
   ],
   "source": [
    "df = "
   ]
  },
  {
   "cell_type": "code",
   "execution_count": null,
   "id": "9a0feeb7",
   "metadata": {},
   "outputs": [],
   "source": []
  }
 ],
 "metadata": {
  "kernelspec": {
   "display_name": "Python 3",
   "language": "python",
   "name": "python3"
  },
  "language_info": {
   "codemirror_mode": {
    "name": "ipython",
    "version": 3
   },
   "file_extension": ".py",
   "mimetype": "text/x-python",
   "name": "python",
   "nbconvert_exporter": "python",
   "pygments_lexer": "ipython3",
   "version": "3.9.12"
  }
 },
 "nbformat": 4,
 "nbformat_minor": 5
}
