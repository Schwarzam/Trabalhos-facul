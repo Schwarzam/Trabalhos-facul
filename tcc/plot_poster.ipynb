{
 "cells": [
  {
   "cell_type": "code",
   "execution_count": 28,
   "metadata": {},
   "outputs": [],
   "source": [
    "import requests\n",
    "from bs4 import BeautifulSoup\n",
    "import pandas as pd\n",
    "\n",
    "def extract_tables_from_url(url):\n",
    "    # Fetch the HTML content\n",
    "    response = requests.get(url)\n",
    "    html_content = response.content\n",
    "\n",
    "    soup = BeautifulSoup(html_content, 'html.parser')\n",
    "    tables = soup.find_all('table', class_='table-auto w-full text-xs leading-loose')\n",
    "\n",
    "    dataframes = []\n",
    "    for table in tables:\n",
    "        df = pd.read_html(str(table))[0]\n",
    "        dataframes.append(df)\n",
    "    \n",
    "    return dataframes\n",
    "    \n",
    "    \n",
    "    \n"
   ]
  },
  {
   "cell_type": "code",
   "execution_count": 37,
   "metadata": {},
   "outputs": [],
   "source": [
    "url = 'https://programming-language-benchmarks.vercel.app/python-vs-rust'\n",
    "dataframes = extract_tables_from_url(url)\n",
    "\n",
    "\n",
    "import pandas as pd\n",
    "concatenated = pd.concat(dataframes, axis=0, ignore_index=True)"
   ]
  },
  {
   "cell_type": "code",
   "execution_count": 38,
   "metadata": {},
   "outputs": [],
   "source": [
    "pythons = concatenated[concatenated[0] == 'python']\n",
    "rusts = concatenated[concatenated[0] == 'rust']"
   ]
  },
  {
   "cell_type": "code",
   "execution_count": 39,
   "metadata": {},
   "outputs": [],
   "source": [
    "def parse_time(time_str):\n",
    "    if time_str == 'timeout':\n",
    "        return None\n",
    "    else:\n",
    "        return float(time_str.replace('ms', ''))"
   ]
  },
  {
   "cell_type": "code",
   "execution_count": 40,
   "metadata": {},
   "outputs": [
    {
     "name": "stderr",
     "output_type": "stream",
     "text": [
      "<ipython-input-40-2c859d9c45fe>:1: SettingWithCopyWarning: \n",
      "A value is trying to be set on a copy of a slice from a DataFrame.\n",
      "Try using .loc[row_indexer,col_indexer] = value instead\n",
      "\n",
      "See the caveats in the documentation: https://pandas.pydata.org/pandas-docs/stable/user_guide/indexing.html#returning-a-view-versus-a-copy\n",
      "  pythons[2] = pythons[2].apply(parse_time)\n"
     ]
    }
   ],
   "source": [
    "pythons[2] = pythons[2].apply(parse_time)\n"
   ]
  },
  {
   "cell_type": "code",
   "execution_count": 41,
   "metadata": {},
   "outputs": [
    {
     "name": "stderr",
     "output_type": "stream",
     "text": [
      "<ipython-input-41-36a1f4ca5c3d>:1: SettingWithCopyWarning: \n",
      "A value is trying to be set on a copy of a slice from a DataFrame.\n",
      "Try using .loc[row_indexer,col_indexer] = value instead\n",
      "\n",
      "See the caveats in the documentation: https://pandas.pydata.org/pandas-docs/stable/user_guide/indexing.html#returning-a-view-versus-a-copy\n",
      "  rusts[2] = rusts[2].apply(parse_time)\n"
     ]
    }
   ],
   "source": [
    "rusts[2] = rusts[2].apply(parse_time)"
   ]
  },
  {
   "cell_type": "code",
   "execution_count": 50,
   "metadata": {},
   "outputs": [],
   "source": [
    "import matplotlib.pyplot as plt\n",
    "import matplotlib.ticker as mticker\n"
   ]
  },
  {
   "cell_type": "code",
   "execution_count": 46,
   "metadata": {},
   "outputs": [],
   "source": [
    "mean_df1 = pythons[2].mean()\n",
    "mean_df2 = rusts[2].mean()"
   ]
  },
  {
   "cell_type": "code",
   "execution_count": 71,
   "metadata": {},
   "outputs": [
    {
     "data": {
      "image/png": "[encoded data removed]",
      "text/plain": [
       "<Figure size 936x432 with 1 Axes>"
      ]
     },
     "metadata": {
      "needs_background": "light"
     },
     "output_type": "display_data"
    }
   ],
   "source": [
    "labels = ['Python', 'Rust']\n",
    "colors = ['skyblue', 'salmon']\n",
    "means = [mean_df1, mean_df2]\n",
    "\n",
    "plt.figure(figsize=(13, 6))\n",
    "bars = plt.barh(labels, means, color=colors, edgecolor='none')\n",
    "\n",
    "# for bar in bars:\n",
    "#     plt.gca().text(bar.get_width(), bar.get_y() + bar.get_height() / 2,\n",
    "#                    f'{bar.get_width():.2f}',\n",
    "#                    ha='left', va='center', fontsize=12, color='black')\n",
    "\n",
    "\n",
    "plt.xlabel('Tempo médio (ms)', fontsize=16)\n",
    "plt.title('Comparação em todos testes', fontsize=20)\n",
    "plt.xticks(fontsize=16)\n",
    "plt.yticks(fontsize=16)\n",
    "\n",
    "plt.gca().xaxis.set_major_formatter(mticker.StrMethodFormatter('{x:,.0f} ms'))\n",
    "\n",
    "plt.grid(axis='x', linestyle='--', alpha=0.7)\n",
    "\n",
    "plt.tight_layout()\n",
    "plt.show()\n"
   ]
  },
  {
   "cell_type": "code",
   "execution_count": null,
   "metadata": {},
   "outputs": [],
   "source": []
  }
 ],
 "metadata": {
  "kernelspec": {
   "display_name": "base",
   "language": "python",
   "name": "python3"
  },
  "language_info": {
   "codemirror_mode": {
    "name": "ipython",
    "version": 3
   },
   "file_extension": ".py",
   "mimetype": "text/x-python",
   "name": "python",
   "nbconvert_exporter": "python",
   "pygments_lexer": "ipython3",
   "version": "3.9.12"
  }
 },
 "nbformat": 4,
 "nbformat_minor": 2
}
